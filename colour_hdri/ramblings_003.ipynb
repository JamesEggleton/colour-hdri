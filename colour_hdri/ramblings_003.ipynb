{
 "cells": [
  {
   "cell_type": "code",
   "execution_count": 9,
   "metadata": {
    "collapsed": false
   },
   "outputs": [],
   "source": [
    "import logging\n",
    "import os\n",
    "import platform\n",
    "import re\n",
    "import shlex\n",
    "import subprocess\n",
    "\n",
    "from colour_hdri.process import (\n",
    "    convert_raw_files_to_dng_files,\n",
    "    convert_dng_files_to_intermediate_files,\n",
    "    filter_files,\n",
    "    update_exif_data)"
   ]
  },
  {
   "cell_type": "code",
   "execution_count": 10,
   "metadata": {
    "collapsed": false
   },
   "outputs": [],
   "source": [
    "DIRECTORY = '/Users/kelsolaar/Documents/Development/colour-science/colour-hdri/resources/NIKON D800/Fontainebleau_002/Panorama'\n",
    "\n",
    "RAW_FILES = filter_files(DIRECTORY, ('NEF',))\n",
    "\n",
    "DNG_FILES = convert_raw_files_to_dng_files(RAW_FILES, DIRECTORY)"
   ]
  },
  {
   "cell_type": "code",
   "execution_count": 11,
   "metadata": {
    "collapsed": false
   },
   "outputs": [],
   "source": [
    "ITMDT_FILES = convert_dng_files_to_intermediate_files(DNG_FILES, DIRECTORY, demosaicing=True)"
   ]
  },
  {
   "cell_type": "code",
   "execution_count": 12,
   "metadata": {
    "collapsed": false,
    "scrolled": false
   },
   "outputs": [
    {
     "data": {
      "text/plain": [
       "1"
      ]
     },
     "execution_count": 12,
     "metadata": {},
     "output_type": "execute_result"
    }
   ],
   "source": [
    "update_exif_data(zip(DNG_FILES, ITMDT_FILES))"
   ]
  }
 ],
 "metadata": {
  "kernelspec": {
   "display_name": "Python 2",
   "language": "python",
   "name": "python2"
  },
  "language_info": {
   "codemirror_mode": {
    "name": "ipython",
    "version": 2
   },
   "file_extension": ".py",
   "mimetype": "text/x-python",
   "name": "python",
   "nbconvert_exporter": "python",
   "pygments_lexer": "ipython2",
   "version": "2.7.9"
  }
 },
 "nbformat": 4,
 "nbformat_minor": 0
}
