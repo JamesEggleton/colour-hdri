{
 "cells": [
  {
   "cell_type": "markdown",
   "metadata": {},
   "source": [
    "# Colour - HDRI - Example: Merge from JPG Files"
   ]
  },
  {
   "cell_type": "markdown",
   "metadata": {},
   "source": [
    "Through this example, some Canon EOS 5D Mark II *CR2* files converted to *JPG* files will be merged together in order to create a single radiance image. The conversion to *JPG* files files has been performed using [Apple Photos](http://www.apple.com/nz/osx/photos/).\n",
    "\n",
    "The following steps will be taken:\n",
    "\n",
    "- Creation of a camera response functions computation dedicated image stack using cherry picked *JPG* files. The two files with lowest luminance are excluded as their contribution biased the resulting camera response functions.\n",
    "    - Reading of the *JPG* files *Exif* metadata using Phil Harvey's [ExifTool](http://www.sno.phy.queensu.ca/~phil/exiftool/).\n",
    "    - Reading of the intermediate *JPG* files pixel data using [OpenImageIO](http://openimageio.org/).\n",
    "- Computation of the camera response functions.\n",
    "- Creation of an image stack using *JPG* files.\n",
    "- Merging of the image stack into a radiance image using the camera response functions.\n",
    "- Display of the final resulting radiance image."
   ]
  },
  {
   "cell_type": "code",
   "execution_count": 1,
   "metadata": {
    "collapsed": true
   },
   "outputs": [],
   "source": [
    "%matplotlib inline"
   ]
  },
  {
   "cell_type": "code",
   "execution_count": null,
   "metadata": {
    "collapsed": false
   },
   "outputs": [],
   "source": [
    "import glob\n",
    "import logging\n",
    "import numpy as np\n",
    "import os\n",
    "import pylab\n",
    "\n",
    "import colour\n",
    "from colour.plotting import *\n",
    "\n",
    "from colour_hdri import (\n",
    "    ImageStack,\n",
    "    camera_response_function_Debevec1997,\n",
    "    radiance_image,\n",
    "    radiance_image_strip_plot,\n",
    "    weighting_function_Debevec1997)\n",
    "\n",
    "LOGGER = logging.getLogger()\n",
    "LOGGER.setLevel(logging.DEBUG)\n",
    "\n",
    "OECF = colour.RGB_COLOURSPACES['sRGB'].transfer_function\n",
    "\n",
    "RESOURCES_DIRECTORY = os.path.join(os.getcwd(), 'resources')\n",
    "JPG_FILES = glob.glob('{0}/*.jpg'.format(RESOURCES_DIRECTORY))"
   ]
  },
  {
   "cell_type": "markdown",
   "metadata": {},
   "source": [
    "## Camera Response Functions Computation"
   ]
  },
  {
   "cell_type": "code",
   "execution_count": null,
   "metadata": {
    "collapsed": false,
    "scrolled": false
   },
   "outputs": [
    {
     "name": "stderr",
     "output_type": "stream",
     "text": [
      "INFO:colour_hdri.image:Reading \"/Users/kelsolaar/Documents/Development/colour-science/colour-hdri/colour_hdri/examples/resources/IMG_2600.jpg\" image.\n",
      "INFO:colour_hdri.image:Reading \"/Users/kelsolaar/Documents/Development/colour-science/colour-hdri/colour_hdri/examples/resources/IMG_2600.jpg\" image metadata.\n",
      "INFO:colour_hdri.exif:Reading '/Users/kelsolaar/Documents/Development/colour-science/colour-hdri/colour_hdri/examples/resources/IMG_2600.jpg' file exif data.\n",
      "INFO:colour_hdri.image:Reading \"/Users/kelsolaar/Documents/Development/colour-science/colour-hdri/colour_hdri/examples/resources/IMG_2601.jpg\" image.\n",
      "INFO:colour_hdri.image:Reading \"/Users/kelsolaar/Documents/Development/colour-science/colour-hdri/colour_hdri/examples/resources/IMG_2601.jpg\" image metadata.\n",
      "INFO:colour_hdri.exif:Reading '/Users/kelsolaar/Documents/Development/colour-science/colour-hdri/colour_hdri/examples/resources/IMG_2601.jpg' file exif data.\n",
      "INFO:colour_hdri.image:Reading \"/Users/kelsolaar/Documents/Development/colour-science/colour-hdri/colour_hdri/examples/resources/IMG_2602.jpg\" image.\n",
      "INFO:colour_hdri.image:Reading \"/Users/kelsolaar/Documents/Development/colour-science/colour-hdri/colour_hdri/examples/resources/IMG_2602.jpg\" image metadata.\n",
      "INFO:colour_hdri.exif:Reading '/Users/kelsolaar/Documents/Development/colour-science/colour-hdri/colour_hdri/examples/resources/IMG_2602.jpg' file exif data.\n"
     ]
    }
   ],
   "source": [
    "weighting_function_custom = lambda x: weighting_function_Debevec1997(x, 0.05, 0.99)\n",
    "\n",
    "CRFS = camera_response_function_Debevec1997(\n",
    "    ImageStack.from_files(JPG_FILES[2:5]), w=weighting_function_custom)\n",
    "\n",
    "pylab.plot(CRFS)\n",
    "pylab.show()"
   ]
  },
  {
   "cell_type": "markdown",
   "metadata": {},
   "source": [
    "## Radiance Image Merge"
   ]
  },
  {
   "cell_type": "code",
   "execution_count": null,
   "metadata": {
    "collapsed": false,
    "scrolled": false
   },
   "outputs": [],
   "source": [
    "def example_merge_from_jpg_files(\n",
    "        jpg_files,\n",
    "        output_directory,\n",
    "        camera_response_functions,\n",
    "        batch_size=5,\n",
    "        weighting_function=weighting_function_custom):\n",
    "    for jpg_files in colour.batch(jpg_files, batch_size):\n",
    "        image_stack = ImageStack.from_files(jpg_files)\n",
    "\n",
    "        path = os.path.join(\n",
    "            output_directory,\n",
    "            '{0}_{1}_MLF.{2}'.format(\n",
    "                os.path.splitext(os.path.basename(image_stack.path[0]))[0],\n",
    "                batch_size,\n",
    "                'exr'))\n",
    "        \n",
    "        LOGGER.info('Merging \"{0}\"...'.format(path))\n",
    "        LOGGER.info('\\tImage stack \"F Number\" (Exif): {0}'.format(\n",
    "            image_stack.f_number))\n",
    "        LOGGER.info('\\tImage stack \"Exposure Time\" (Exif): {0}'.format(\n",
    "            image_stack.exposure_time))\n",
    "        LOGGER.info('\\tImage stack \"ISO\" (Exif): {0}'.format(\n",
    "            image_stack.iso))\n",
    "        image = radiance_image(image_stack,\n",
    "                               weighting_function,\n",
    "                               camera_response_functions=camera_response_functions)\n",
    "        image[np.isnan(image)] = 0\n",
    "        \n",
    "        LOGGER.info('Writing \"{0}\"...'.format(path))\n",
    "        colour.write_image(image, path)\n",
    "\n",
    "        return image, path\n",
    "\n",
    "IMAGE, PATH = example_merge_from_jpg_files(JPG_FILES, RESOURCES_DIRECTORY, CRFS)"
   ]
  },
  {
   "cell_type": "markdown",
   "metadata": {},
   "source": [
    "## Radiance Image Display"
   ]
  },
  {
   "cell_type": "code",
   "execution_count": null,
   "metadata": {
    "collapsed": false
   },
   "outputs": [],
   "source": [
    "radiance_image_strip_plot(IMAGE)"
   ]
  }
 ],
 "metadata": {
  "kernelspec": {
   "display_name": "Python 2",
   "language": "python",
   "name": "python2"
  },
  "language_info": {
   "codemirror_mode": {
    "name": "ipython",
    "version": 2
   },
   "file_extension": ".py",
   "mimetype": "text/x-python",
   "name": "python",
   "nbconvert_exporter": "python",
   "pygments_lexer": "ipython2",
   "version": "2.7.9"
  }
 },
 "nbformat": 4,
 "nbformat_minor": 0
}
